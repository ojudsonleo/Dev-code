{
 "cells": [
  {
   "cell_type": "markdown",
   "metadata": {
    "graffitiCellId": "id_m5u9j4m"
   },
   "source": [
    "# Longest Palindromic Subsequence\n",
    "\n",
    "In this notebook, you'll be tasked with finding the length of the *Longest Palindromic Subsequence* (LPS) given a string of characters.\n",
    "\n",
    "As an example:\n",
    "* With an input string, `ABBDBCACB`\n",
    "* The LPS is `BCACB`, which has `length = 5`\n",
    "\n",
    "In this notebook, we'll focus on finding an optimal solution to the LPS task, using dynamic programming. There will be some similarities to the Longest Common Subsequence (LCS) task, which is outlined in detail in a previous notebook. It is recommended that you start with that notebook before trying out this task.\n",
    "\n",
    "### Hint\n",
    "**Storing pre-computed values**\n",
    "\n",
    "The LPS algorithm depends on looking at one string and comparing letters to one another. Similar to how you compared two strings in the LCS (Longest Common Subsequence) task, you can compare the characters in just *one* string with one another, using a matrix to store the results of matching characters.\n",
    "\n",
    "\n",
    "For a string on length n characters, you can create an `n x n` matrix to store the solution to subproblems. In this case, the subproblem is the length of the longest palindromic subsequence, up to a certain point in the string (up to the end of a certain substring).\n",
    "\n",
    "It may be helpful to try filling up a matrix on paper before you start your code solution. If you get stuck with this task, you may look at some example matrices below (see the section titled **Example matrices**), before consulting the complete solution code.\n"
   ]
  },
  {
   "cell_type": "code",
   "execution_count": 1,
   "metadata": {
    "graffitiCellId": "id_m2kla9e"
   },
   "outputs": [],
   "source": [
    "def matrix_constructor(string_col: str, string_row: str) -> list:\n",
    "    \"\"\"\n",
    "    Construct a matrix suited for lcs\n",
    "    :param string_col: string occupying the columns position\n",
    "    :param string_row: string occupying the rows position\n",
    "    :return: matrix on the proper format\n",
    "    \"\"\"\n",
    "\n",
    "    string_col = '0' + string_col\n",
    "    string_row = '0' + string_row\n",
    "    matrix = []\n",
    "\n",
    "    for i_row, row in enumerate(string_row):\n",
    "        row_list = []\n",
    "        for i_col, col in enumerate(string_col):\n",
    "            if i_row == 0:  # Naming column\n",
    "                row_list.append(col)\n",
    "            else:\n",
    "                if i_col == 0:  # Naming row\n",
    "                    row_list.append(row)\n",
    "                elif i_col == i_row:\n",
    "                    row_list.append(1)\n",
    "                else:\n",
    "                    row_list.append(0)\n",
    "\n",
    "        matrix.append(row_list)\n",
    "\n",
    "    return matrix\n",
    "\n",
    "\n",
    "def lps(input_string: str) -> int:\n",
    "    \"\"\"\n",
    "    Given a string, returns the maximum palindrome lenght\n",
    "    :param input_string: string to find palindromes on\n",
    "    :return: maximum palindrom length\n",
    "    \"\"\"\n",
    "    matrix = matrix_constructor(string_col=input_string, string_row=input_string)\n",
    "\n",
    "    for i_row in range(len(matrix)-2, 0, -1):\n",
    "        for i_col in range(i_row+1, len(matrix)):\n",
    "            if matrix[i_row][0] == matrix[0][i_col]:  # Match - Equals to the bottom-left of that cell plus two.\n",
    "                bottom_left_cell = matrix[i_row+1][i_col-1]\n",
    "                matrix[i_row][i_col] = bottom_left_cell + 2\n",
    "            else:  # Non Match - Maximum value from either directly to the left or the bottom cell.\n",
    "                left_cell = matrix[i_row][i_col-1]\n",
    "                bottom_cell = matrix[i_row+1][i_col]\n",
    "                matrix[i_row][i_col] = max(left_cell, bottom_cell)\n",
    "\n",
    "    return matrix[1][len(matrix)-1]"
   ]
  },
  {
   "cell_type": "code",
   "execution_count": 2,
   "metadata": {
    "graffitiCellId": "id_zrl045w"
   },
   "outputs": [],
   "source": [
    "def test_function(test_case):\n",
    "    string = test_case[0]\n",
    "    solution = test_case[1]\n",
    "    output = lps(string)\n",
    "    print(output)\n",
    "    if output == solution:\n",
    "        print(\"Pass\")\n",
    "    else:\n",
    "        print(\"Fail\")"
   ]
  },
  {
   "cell_type": "code",
   "execution_count": 3,
   "metadata": {
    "graffitiCellId": "id_cqnb288"
   },
   "outputs": [
    {
     "name": "stdout",
     "output_type": "stream",
     "text": [
      "7\n",
      "Pass\n"
     ]
    }
   ],
   "source": [
    "string = \"TACOCAT\"\n",
    "solution = 7\n",
    "test_case = [string, solution]\n",
    "test_function(test_case)"
   ]
  },
  {
   "cell_type": "code",
   "execution_count": 4,
   "metadata": {
    "graffitiCellId": "id_qwckonz"
   },
   "outputs": [
    {
     "name": "stdout",
     "output_type": "stream",
     "text": [
      "5\n",
      "Pass\n"
     ]
    }
   ],
   "source": [
    "string = 'BANANA'\n",
    "solution = 5\n",
    "test_case = [string, solution]\n",
    "test_function(test_case)"
   ]
  },
  {
   "cell_type": "code",
   "execution_count": 5,
   "metadata": {
    "graffitiCellId": "id_pgp7moi"
   },
   "outputs": [
    {
     "name": "stdout",
     "output_type": "stream",
     "text": [
      "3\n",
      "Pass\n"
     ]
    }
   ],
   "source": [
    "string = 'BANANO'\n",
    "solution = 3\n",
    "test_case = [string, solution]\n",
    "test_function(test_case)"
   ]
  },
  {
   "cell_type": "markdown",
   "metadata": {
    "collapsed": true,
    "graffitiCellId": "id_muz0nks"
   },
   "source": [
    "### Example matrices\n",
    "\n",
    "Example LPS Subproblem matrix 1:\n",
    "\n",
    "```\n",
    "input_string = 'BANANO'\n",
    "\n",
    "LPS subproblem matrix:\n",
    "  \n",
    "     B  A  N  A  N  O\n",
    "B  [[1, 1, 1, 3, 3, 3],\n",
    "A   [0, 1, 1, 3, 3, 3],\n",
    "N   [0, 0, 1, 1, 3, 3],\n",
    "A   [0, 0, 0, 1, 1, 1],\n",
    "N   [0, 0, 0, 0, 1, 1],\n",
    "O   [0, 0, 0, 0, 0, 1]]\n",
    "\n",
    "LPS length:  3\n",
    "```\n",
    "\n",
    "Example LPS Subproblem matrix 2:\n",
    "```\n",
    "input_string = 'TACOCAT'\n",
    "\n",
    "LPS subproblem matrix:\n",
    "\n",
    "     T  A  C  O  C  A  T\n",
    "T  [[1, 1, 1, 1, 3, 5, 7],\n",
    "A   [0, 1, 1, 1, 3, 5, 5],\n",
    "C   [0, 0, 1, 1, 3, 3, 3],\n",
    "O   [0, 0, 0, 1, 1, 1, 1],\n",
    "C   [0, 0, 0, 0, 1, 1, 1],\n",
    "A   [0, 0, 0, 0, 0, 1, 1],\n",
    "T   [0, 0, 0, 0, 0, 0, 1]]\n",
    "\n",
    "LPS length:  7\n",
    "```\n",
    "\n",
    "Note: The lower diagonal values will remain 0 in all cases.\n",
    "\n",
    "### The matrix rules\n",
    "\n",
    "You can efficiently fill up this matrix one cell at a time. Each grid cell only depends on the values in the grid cells that are directly on bottom and to the left of it, or on the diagonal/bottom-left. The rules are as follows:\n",
    "* Start with an `n x n ` matrix where n is the number of characters in a given string; the diagonal should all have the value 1 for the base case, the rest can be zeros.\n",
    "* As you traverse your string:\n",
    "    * If there is a match, fill that grid cell with the value to the bottom-left of that cell *plus* two.\n",
    "    * If there is not a match, take the *maximum* value from either directly to the left or the bottom cell, and carry that value over to the non-match cell.\n",
    "* After completely filling the matrix, **the top-right cell will hold the final LPS length**."
   ]
  },
  {
   "cell_type": "markdown",
   "metadata": {
    "graffitiCellId": "id_d28fhk7"
   },
   "source": [
    "<span class=\"graffiti-highlight graffiti-id_d28fhk7-id_3yrlf09\"><i></i><button>Show Solution</button></span>"
   ]
  },
  {
   "cell_type": "markdown",
   "metadata": {
    "collapsed": true,
    "graffitiCellId": "id_ovo1t4d"
   },
   "source": [
    "### Complexity\n",
    "\n",
    "What was the complexity of this?\n",
    "\n",
    "In the solution, we are looping over the elements of our `input_string` using two `for` loops; these are each of $O(N)$ and nested this becomes $O(N^2)$. This behavior dominates our optimized solution."
   ]
  }
 ],
 "metadata": {
  "graffiti": {
   "firstAuthorId": "10694620118",
   "id": "id_w5rg0wc",
   "language": "EN"
  },
  "kernelspec": {
   "display_name": "Python 3",
   "language": "python",
   "name": "python3"
  },
  "language_info": {
   "codemirror_mode": {
    "name": "ipython",
    "version": 3
   },
   "file_extension": ".py",
   "mimetype": "text/x-python",
   "name": "python",
   "nbconvert_exporter": "python",
   "pygments_lexer": "ipython3",
   "version": "3.6.3"
  }
 },
 "nbformat": 4,
 "nbformat_minor": 2
}
