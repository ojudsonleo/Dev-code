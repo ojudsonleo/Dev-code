{
 "cells": [
  {
   "cell_type": "markdown",
   "metadata": {
    "graffitiCellId": "id_m8owu67"
   },
   "source": [
    "# Graph Depth First Search\n",
    "In this exercise, you'll see how to do a depth first search on a graph. To start, let's create a graph class in Python."
   ]
  },
  {
   "cell_type": "code",
   "execution_count": 1,
   "metadata": {
    "graffitiCellId": "id_ahrjg5m"
   },
   "outputs": [],
   "source": [
    "class GraphNode(object):\n",
    "    def __init__(self, val):\n",
    "        self.value = val\n",
    "        self.children = []\n",
    "        \n",
    "    def add_child(self,new_node):\n",
    "        self.children.append(new_node)\n",
    "    \n",
    "    def remove_child(self,del_node):\n",
    "        if del_node in self.children:\n",
    "            self.children.remove(del_node)\n",
    "\n",
    "class Graph(object):\n",
    "    def __init__(self,node_list):\n",
    "        self.nodes = node_list\n",
    "        \n",
    "    def add_edge(self,node1,node2):\n",
    "        if(node1 in self.nodes and node2 in self.nodes):\n",
    "            node1.add_child(node2)\n",
    "            node2.add_child(node1)\n",
    "            \n",
    "    def remove_edge(self,node1,node2):\n",
    "        if(node1 in self.nodes and node2 in self.nodes):\n",
    "            node1.remove_child(node2)\n",
    "            node2.remove_child(node1)"
   ]
  },
  {
   "cell_type": "markdown",
   "metadata": {
    "graffitiCellId": "id_1gmwlh4"
   },
   "source": [
    "Now let's create the graph."
   ]
  },
  {
   "cell_type": "code",
   "execution_count": 2,
   "metadata": {
    "graffitiCellId": "id_7t1mjv6"
   },
   "outputs": [],
   "source": [
    "nodeG = GraphNode('G')\n",
    "nodeR = GraphNode('R')\n",
    "nodeA = GraphNode('A')\n",
    "nodeP = GraphNode('P')\n",
    "nodeH = GraphNode('H')\n",
    "nodeS = GraphNode('S')\n",
    "\n",
    "graph1 = Graph([nodeS,nodeH,nodeG,nodeP,nodeR,nodeA] ) \n",
    "graph1.add_edge(nodeG,nodeR)\n",
    "graph1.add_edge(nodeA,nodeR)\n",
    "graph1.add_edge(nodeA,nodeG)\n",
    "graph1.add_edge(nodeR,nodeP)\n",
    "graph1.add_edge(nodeH,nodeG)\n",
    "graph1.add_edge(nodeH,nodeP)\n",
    "graph1.add_edge(nodeS,nodeR)"
   ]
  },
  {
   "cell_type": "markdown",
   "metadata": {
    "graffitiCellId": "id_8vfpmgw"
   },
   "source": [
    "## Implement DFS\n",
    "Using what you know about DFS for trees, apply this to graphs. Implement the `dfs_search` to return the `GraphNode` with the value `search_value` starting at the `root_node`."
   ]
  },
  {
   "cell_type": "code",
   "execution_count": 3,
   "metadata": {
    "graffitiCellId": "id_k6nhmo1"
   },
   "outputs": [],
   "source": [
    "def dfs_search(root_node, search_value):\n",
    "    stack = list()\n",
    "    seen_elements = list()\n",
    "\n",
    "    # First iteration\n",
    "    node = root_node\n",
    "    node_value = node.value\n",
    "\n",
    "    if node_value == search_value:\n",
    "        return root_node\n",
    "\n",
    "    seen_elements.append(node_value)\n",
    "    stack.append(node_value)\n",
    "\n",
    "    while len(stack) > 0:\n",
    "\n",
    "        for node_next in node.children:  # Select next node to visit\n",
    "            no_new_children = True\n",
    "\n",
    "            if node_next.value not in seen_elements:\n",
    "                node = node_next  # Once found a new one stop searching\n",
    "                node_value = node.value\n",
    "\n",
    "                if node_value == search_value:  # Exiting success condition\n",
    "                    return node\n",
    "\n",
    "                seen_elements.append(node_value)\n",
    "                stack.append(node_value)\n",
    "                no_new_children = False\n",
    "                break\n",
    "\n",
    "        if no_new_children:  # We have not found a possible next node to visit\n",
    "            stack.pop()  # Remove element from the stack\n",
    "            for node_backwards in node.children:  # Go to the previous node\n",
    "                if node_backwards.value is stack[len(stack) - 1]:\n",
    "                    node = node_backwards\n",
    "                    break\n",
    "\n",
    "    return -1"
   ]
  },
  {
   "cell_type": "markdown",
   "metadata": {
    "graffitiCellId": "id_flg9zjy"
   },
   "source": [
    "<span class=\"graffiti-highlight graffiti-id_flg9zjy-id_4sn6eaw\"><i></i><button>Show Solution</button></span>"
   ]
  },
  {
   "cell_type": "markdown",
   "metadata": {
    "graffitiCellId": "id_0aafts6"
   },
   "source": [
    "### Tests"
   ]
  },
  {
   "cell_type": "code",
   "execution_count": 4,
   "metadata": {
    "graffitiCellId": "id_3k4dgr7"
   },
   "outputs": [],
   "source": [
    "assert nodeA == dfs_search(nodeS, 'A')\n",
    "assert nodeS == dfs_search(nodeP, 'S')\n",
    "assert nodeR == dfs_search(nodeH, 'R')"
   ]
  }
 ],
 "metadata": {
  "graffiti": {
   "firstAuthorId": "10694620118",
   "id": "id_9f31yr7",
   "language": "EN"
  },
  "kernelspec": {
   "display_name": "Python 3",
   "language": "python",
   "name": "python3"
  },
  "language_info": {
   "codemirror_mode": {
    "name": "ipython",
    "version": 3
   },
   "file_extension": ".py",
   "mimetype": "text/x-python",
   "name": "python",
   "nbconvert_exporter": "python",
   "pygments_lexer": "ipython3",
   "version": "3.6.3"
  }
 },
 "nbformat": 4,
 "nbformat_minor": 2
}
