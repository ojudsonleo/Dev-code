{
 "cells": [
  {
   "cell_type": "markdown",
   "metadata": {
    "graffitiCellId": "id_ner1upo"
   },
   "source": [
    "# Counting Inversions\n",
    "\n",
    "The number of *inversions* in a disordered list is the number of pairs of elements that are inverted (out of order) in the list.  \n",
    "\n",
    "Here are some examples: \n",
    "  - [0,1] has 0 inversions\n",
    "  - [2,1] has 1 inversion (2,1)\n",
    "  - [3, 1, 2, 4] has 2 inversions (3, 2), (3, 1)\n",
    "  - [7, 5, 3, 1] has 6 inversions (7, 5), (3, 1), (5, 1), (7, 1), (5, 3), (7, 3)\n",
    "  \n",
    "The number of inversions can also be thought of in the following manner. \n",
    "\n",
    ">Given an array `arr[0 ... n-1]` of `n` distinct positive integers, for indices `i and j`, if `i < j` and `arr[i] > arr[j]` then the pair `(i, j)` is called an inversion of `arr`.\n",
    "\n",
    "## Problem statement\n",
    "\n",
    "Write a function, `count_inversions`, that takes an array (or Python list) as input, and returns a count of the total number of inversions present in the input.\n",
    "\n",
    "Mergesort provides an efficient way to solve this problem."
   ]
  },
  {
   "cell_type": "code",
   "execution_count": 1,
   "metadata": {
    "graffitiCellId": "id_jf6a5ys"
   },
   "outputs": [],
   "source": [
    "def count_inversions(items):\n",
    "    if len(items) <= 1:\n",
    "        return items, 0\n",
    "\n",
    "    mid = len(items) // 2\n",
    "    left = items[:mid]\n",
    "    right = items[mid:]\n",
    "\n",
    "    inversions_left = 0\n",
    "    inversions_right = 0\n",
    "\n",
    "    left, inversions_left = count_inversions(left)\n",
    "    right, inversions_right = count_inversions(right)\n",
    "\n",
    "    merged, inversions = merge(left, right)\n",
    "\n",
    "    return merged, inversions_left + inversions_right + inversions\n",
    "\n",
    "\n",
    "def merge(left, right):\n",
    "    merged = []\n",
    "    inversions = 0\n",
    "    left_index = 0\n",
    "    right_index = 0\n",
    "\n",
    "    while left_index < len(left) and right_index < len(right):\n",
    "        if left[left_index] > right[right_index]:\n",
    "            merged.append(right[right_index])\n",
    "            inversions += 1\n",
    "            right_index += 1\n",
    "        else:\n",
    "            merged.append(left[left_index])\n",
    "            left_index += 1\n",
    "\n",
    "    merged += left[left_index:]\n",
    "    merged += right[right_index:]\n",
    "\n",
    "    return merged, inversions"
   ]
  },
  {
   "cell_type": "markdown",
   "metadata": {
    "graffitiCellId": "id_8809fp2"
   },
   "source": [
    "<span class=\"graffiti-highlight graffiti-id_8809fp2-id_8br31oi\"><i></i><button>Show Solution</button></span>"
   ]
  },
  {
   "cell_type": "code",
   "execution_count": 2,
   "metadata": {
    "graffitiCellId": "id_l6xh0rg"
   },
   "outputs": [],
   "source": [
    "def test_function(test_case):\n",
    "    arr = test_case[0]\n",
    "    solution = test_case[1]\n",
    "    if count_inversions(arr)[1] == solution:\n",
    "        print(\"Pass\")\n",
    "    else:\n",
    "        print(\"Fail\")\n"
   ]
  },
  {
   "cell_type": "code",
   "execution_count": 3,
   "metadata": {
    "graffitiCellId": "id_4aqr272"
   },
   "outputs": [
    {
     "name": "stdout",
     "output_type": "stream",
     "text": [
      "Pass\n"
     ]
    }
   ],
   "source": [
    "arr = [2, 5, 1, 3, 4]\n",
    "solution = 3\n",
    "test_case = [arr, solution]\n",
    "test_function(test_case)"
   ]
  },
  {
   "cell_type": "code",
   "execution_count": 4,
   "metadata": {
    "graffitiCellId": "id_0sqy9z2"
   },
   "outputs": [
    {
     "name": "stdout",
     "output_type": "stream",
     "text": [
      "Pass\n"
     ]
    }
   ],
   "source": [
    "arr = [54, 99, 49, 22, 37, 18, 22, 90, 86, 33]\n",
    "solution = 13\n",
    "test_case = [arr, solution]\n",
    "test_function(test_case)"
   ]
  },
  {
   "cell_type": "code",
   "execution_count": 5,
   "metadata": {
    "graffitiCellId": "id_s5l67ma"
   },
   "outputs": [
    {
     "name": "stdout",
     "output_type": "stream",
     "text": [
      "Pass\n"
     ]
    }
   ],
   "source": [
    "arr = [1, 2, 4, 2, 3, 11, 22, 99, 108, 389]\n",
    "solution = 2\n",
    "test_case = [arr, solution]\n",
    "test_function(test_case)"
   ]
  }
 ],
 "metadata": {
  "graffiti": {
   "firstAuthorId": "dev",
   "id": "id_2rhwg9e",
   "language": "EN"
  },
  "kernelspec": {
   "display_name": "Python 3",
   "language": "python",
   "name": "python3"
  },
  "language_info": {
   "codemirror_mode": {
    "name": "ipython",
    "version": 3
   },
   "file_extension": ".py",
   "mimetype": "text/x-python",
   "name": "python",
   "nbconvert_exporter": "python",
   "pygments_lexer": "ipython3",
   "version": "3.6.3"
  }
 },
 "nbformat": 4,
 "nbformat_minor": 2
}
