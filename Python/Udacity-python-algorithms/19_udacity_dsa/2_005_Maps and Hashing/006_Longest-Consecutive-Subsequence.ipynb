{
 "cells": [
  {
   "cell_type": "markdown",
   "metadata": {
    "graffitiCellId": "id_vhxf50c"
   },
   "source": [
    "### Problem Statement\n",
    "\n",
    "Given list of integers that contain numbers in random order, write a program to find the longest possible sub sequence of consecutive numbers in the array. Return this subsequence in sorted order. The solution must take O(n) time\n",
    "\n",
    "For e.g. given the list `5, 4, 7, 10, 1, 3, 55, 2`, the output should be `1, 2, 3, 4, 5`\n",
    "\n",
    "*Note- If two arrays are of equal length return the array whose index of smallest element comes first.*\n",
    "\n"
   ]
  },
  {
   "cell_type": "code",
   "execution_count": 1,
   "metadata": {
    "graffitiCellId": "id_eaee7mz"
   },
   "outputs": [],
   "source": [
    "def longest_consecutive_subsequence(input_list):\n",
    "\n",
    "    # iterate over the list and store element in input_list suitable data structure\n",
    "\n",
    "    # traverse / go over the data structure in input_list reasonable order to determine the solution\n",
    "\n",
    "    input_list.sort()\n",
    "    input_list = [element for element in set(input_list)]\n",
    "    input_list_subst = []\n",
    "\n",
    "    for i, value in enumerate(input_list):\n",
    "        if  (i != (len(input_list)-1)):\n",
    "            if i >= 1:\n",
    "                if (input_list_subst[i-1] == -1) & (input_list[i] - input_list[i + 1] != -1):\n",
    "                    input_list_subst.append(-1)\n",
    "\n",
    "            input_list_subst.append(input_list[i] - input_list[i + 1])\n",
    "\n",
    "\n",
    "        else:\n",
    "            pass\n",
    "\n",
    "    i_stored = 0\n",
    "    i_stored_max = 0\n",
    "    i_stored_length = 0\n",
    "    i_stored_max_length = 0\n",
    "    unbroken_consecutive = True\n",
    "\n",
    "    for i, value in enumerate(input_list_subst):\n",
    "        if value == -1:\n",
    "            i_stored_length += 1\n",
    "\n",
    "            if i_stored != 0:\n",
    "                pass\n",
    "            else:\n",
    "                i_stored = i\n",
    "        else:\n",
    "            unbroken_consecutive = False\n",
    "\n",
    "            if i_stored is not 0:\n",
    "                if i_stored_length > i_stored_max_length:\n",
    "                    i_stored_max_length = i_stored_length\n",
    "                    i_stored_max = i_stored\n",
    "\n",
    "                i_stored = 0\n",
    "                i_stored_length = 0\n",
    "\n",
    "    if unbroken_consecutive:\n",
    "        return input_list\n",
    "    else:\n",
    "        return input_list[i_stored_max-1: i_stored_max + i_stored_max_length-1]\n"
   ]
  },
  {
   "cell_type": "code",
   "execution_count": 2,
   "metadata": {
    "graffitiCellId": "id_hlznh6q"
   },
   "outputs": [],
   "source": [
    "def test_function(test_case):\n",
    "    output = longest_consecutive_subsequence(test_case[0])\n",
    "    if output == test_case[1]:\n",
    "        print(\"Pass\")\n",
    "    else:\n",
    "        print(\"Fail\")\n",
    "    "
   ]
  },
  {
   "cell_type": "code",
   "execution_count": 3,
   "metadata": {
    "graffitiCellId": "id_z2y7gsr"
   },
   "outputs": [
    {
     "name": "stdout",
     "output_type": "stream",
     "text": [
      "Pass\n"
     ]
    }
   ],
   "source": [
    "test_case_1 = [[5, 4, 7, 10, 1, 3, 55, 2], [1, 2, 3, 4, 5]]\n",
    "test_function(test_case_1)"
   ]
  },
  {
   "cell_type": "code",
   "execution_count": 4,
   "metadata": {
    "graffitiCellId": "id_a3yf5ol"
   },
   "outputs": [
    {
     "name": "stdout",
     "output_type": "stream",
     "text": [
      "Pass\n"
     ]
    }
   ],
   "source": [
    "test_case_2 = [[2, 12, 9, 16, 10, 5, 3, 20, 25, 11, 1, 8, 6 ], [8, 9, 10, 11, 12]]\n",
    "test_function(test_case_2)"
   ]
  },
  {
   "cell_type": "code",
   "execution_count": 5,
   "metadata": {
    "graffitiCellId": "id_u5rs0q7"
   },
   "outputs": [
    {
     "name": "stdout",
     "output_type": "stream",
     "text": [
      "Pass\n"
     ]
    }
   ],
   "source": [
    "test_case_3 = [[0, 1, 2, 3, 4], [0, 1, 2, 3, 4]]\n",
    "test_function(test_case_3)"
   ]
  },
  {
   "cell_type": "markdown",
   "metadata": {
    "graffitiCellId": "id_et1ek54"
   },
   "source": [
    "<span class=\"graffiti-highlight graffiti-id_et1ek54-id_r15x1vg\"><i></i><button>Show Solution</button></span>"
   ]
  }
 ],
 "metadata": {
  "graffiti": {
   "firstAuthorId": "10694620118",
   "id": "id_alotytm",
   "language": "EN"
  },
  "kernelspec": {
   "display_name": "Python 3",
   "language": "python",
   "name": "python3"
  },
  "language_info": {
   "codemirror_mode": {
    "name": "ipython",
    "version": 3
   },
   "file_extension": ".py",
   "mimetype": "text/x-python",
   "name": "python",
   "nbconvert_exporter": "python",
   "pygments_lexer": "ipython3",
   "version": "3.6.3"
  }
 },
 "nbformat": 4,
 "nbformat_minor": 2
}
