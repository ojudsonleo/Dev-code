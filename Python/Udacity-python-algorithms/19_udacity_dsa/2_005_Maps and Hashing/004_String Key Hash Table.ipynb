{
 "cells": [
  {
   "cell_type": "markdown",
   "metadata": {
    "graffitiCellId": "id_l4tqapd"
   },
   "source": [
    "# String Key Hash Table"
   ]
  },
  {
   "cell_type": "markdown",
   "metadata": {
    "graffitiCellId": "id_g923s81"
   },
   "source": [
    "In this quiz, you'll write your own hash table and hash function that uses string keys. Your table will store strings in buckets by their first two letters, according to the formula below:\n",
    "\n",
    "`Hash Value = (ASCII Value of First Letter * 100) + ASCII Value of Second Letter`\n",
    "\n",
    "You can assume that the string will have at least two letters, and the first two characters are uppercase letters (ASCII values from 65 to 90). You can use the Python function ord() to get the ASCII value of a letter, and chr() to get the letter associated with an ASCII value. \n",
    "\n",
    "You'll create a HashTable class, methods to store and lookup values, and a helper function to calculate a hash value given a string. You cannot use a Python dictionary—only lists! And remember to store lists at each bucket, and not just the string itself. For example, you can store \"UDACITY\" at index 8568 as [\"UDACITY\"]."
   ]
  },
  {
   "cell_type": "markdown",
   "metadata": {
    "graffitiCellId": "id_850d2mv"
   },
   "source": [
    "#### Try building a string hash table!"
   ]
  },
  {
   "cell_type": "code",
   "execution_count": 1,
   "metadata": {
    "graffitiCellId": "id_ru0tzx9"
   },
   "outputs": [],
   "source": [
    "\"\"\"Write a HashTable class that stores strings\n",
    "in a hash table, where keys are calculated\n",
    "using the first two letters of the string.\"\"\"\n",
    "\n",
    "class HashTable(object):\n",
    "    def __init__(self):\n",
    "        self.table = [None]*10000\n",
    "\n",
    "    def store(self, string):\n",
    "        \"\"\"TODO: Input a string that's stored in \n",
    "        the table.\"\"\"\n",
    "        self.table[self.calculate_hash_value(string)] = [string]\n",
    "\n",
    "    def lookup(self, string):\n",
    "        \"\"\"TODO: Return the hash value if the\n",
    "        string is already in the table.\n",
    "        Return -1 otherwise.\"\"\"\n",
    "        hash_value = self.calculate_hash_value(string)\n",
    "        if self.table[hash_value] is not None:\n",
    "            return hash_value\n",
    "        else:\n",
    "            return -1\n",
    "\n",
    "    def calculate_hash_value(self, string):\n",
    "        \"\"\"TODO: Helper function to calulate a\n",
    "        hash value from a string.\"\"\"\n",
    "        return ord(string[0]) * 100 + ord(string[1])\n"
   ]
  },
  {
   "cell_type": "markdown",
   "metadata": {
    "graffitiCellId": "id_a2kdbht"
   },
   "source": [
    "#### Test Cases"
   ]
  },
  {
   "cell_type": "code",
   "execution_count": 2,
   "metadata": {
    "graffitiCellId": "id_uqanz2j"
   },
   "outputs": [
    {
     "name": "stdout",
     "output_type": "stream",
     "text": [
      "8568\n",
      "-1\n",
      "8568\n",
      "8568\n"
     ]
    }
   ],
   "source": [
    "# Setup\n",
    "hash_table = HashTable()\n",
    "\n",
    "# Test calculate_hash_value\n",
    "# Should be 8568\n",
    "print (hash_table.calculate_hash_value('UDACITY'))\n",
    "\n",
    "# Test lookup edge case\n",
    "# Should be -1\n",
    "print (hash_table.lookup('UDACITY'))\n",
    "\n",
    "# Test store\n",
    "hash_table.store('UDACITY')\n",
    "# Should be 8568\n",
    "print (hash_table.lookup('UDACITY'))\n",
    "\n",
    "# Test store edge case\n",
    "hash_table.store('UDACIOUS')\n",
    "# Should be 8568\n",
    "print (hash_table.lookup('UDACIOUS'))"
   ]
  },
  {
   "cell_type": "code",
   "execution_count": null,
   "metadata": {
    "graffitiCellId": "id_55iwcxy"
   },
   "outputs": [],
   "source": [
    "class HashTable(object):\n",
    "    def __init__(self):\n",
    "        self.table = [None]*10000\n",
    "\n",
    "    def store(self, string):\n",
    "        hv = self.calculate_hash_value(string)\n",
    "        if hv != -1:\n",
    "            if self.table[hv] != None:\n",
    "                self.table[hv].append(string)\n",
    "            else:\n",
    "                self.table[hv] = [string]\n",
    "\n",
    "    def lookup(self, string):\n",
    "        hv = self.calculate_hash_value(string)\n",
    "        if hv != -1:\n",
    "            if self.table[hv] != None:\n",
    "                if string in self.table[hv]:\n",
    "                    return hv\n",
    "        return -1\n",
    "\n",
    "    def calculate_hash_value(self, string):\n",
    "        value = ord(string[0])*100 + ord(string[1])\n",
    "        return value\n",
    "    \n",
    "# Setup\n",
    "hash_table = HashTable()\n",
    "\n",
    "# Test calculate_hash_value\n",
    "# Should be 8568\n",
    "print (hash_table.calculate_hash_value('UDACITY'))\n",
    "\n",
    "# Test lookup edge case\n",
    "# Should be -1\n",
    "print (hash_table.lookup('UDACITY'))\n",
    "\n",
    "# Test store\n",
    "hash_table.store('UDACITY')\n",
    "# Should be 8568\n",
    "print (hash_table.lookup('UDACITY'))\n",
    "\n",
    "# Test store edge case\n",
    "hash_table.store('UDACIOUS')\n",
    "# Should be 8568\n",
    "print (hash_table.lookup('UDACIOUS'))\n",
    "\n"
   ]
  },
  {
   "cell_type": "markdown",
   "metadata": {
    "graffitiCellId": "id_53gqd1t"
   },
   "source": [
    "<span class=\"graffiti-highlight graffiti-id_53gqd1t-id_55iwcxy\"><i></i><button>Show Solution</button></span>"
   ]
  }
 ],
 "metadata": {
  "graffiti": {
   "firstAuthorId": "10694620118",
   "id": "id_72hc5z3",
   "language": "EN"
  },
  "kernelspec": {
   "display_name": "Python 3",
   "language": "python",
   "name": "python3"
  },
  "language_info": {
   "codemirror_mode": {
    "name": "ipython",
    "version": 3
   },
   "file_extension": ".py",
   "mimetype": "text/x-python",
   "name": "python",
   "nbconvert_exporter": "python",
   "pygments_lexer": "ipython3",
   "version": "3.6.3"
  },
  "widgets": {
   "state": {},
   "version": "1.1.2"
  }
 },
 "nbformat": 4,
 "nbformat_minor": 2
}
