{
 "cells": [
  {
   "cell_type": "markdown",
   "metadata": {
    "graffitiCellId": "id_bn5s5ij"
   },
   "source": [
    "In Python, the map concept appears as a built-in data type called a dictionary. A dictionary contains key-value pairs. Dictionaries might soon become your favorite data structure in Python—they're extremely easy to use and useful. Here's a sample of setting up a dictionary."
   ]
  },
  {
   "cell_type": "code",
   "execution_count": 1,
   "metadata": {
    "graffitiCellId": "id_vi7l3ce"
   },
   "outputs": [
    {
     "name": "stdout",
     "output_type": "stream",
     "text": [
      "{'u': 1, 'd': 2, 'a': 3, 'c': 4, 'i': 5, 't': 6, 'y': 7}\n"
     ]
    }
   ],
   "source": [
    "udacity = {}\n",
    "udacity['u'] = 1\n",
    "udacity['d'] = 2\n",
    "udacity['a'] = 3\n",
    "udacity['c'] = 4\n",
    "udacity['i'] = 5\n",
    "udacity['t'] = 6\n",
    "udacity['y'] = 7\n",
    "\n",
    "print (udacity)\n",
    "# {'u': 1, 'd': 2, 'a': 3, 'c': 4, 'i': 5, 't': 6, 'y': 7}"
   ]
  },
  {
   "cell_type": "markdown",
   "metadata": {
    "graffitiCellId": "id_yaizler"
   },
   "source": [
    "In this case, the letters in \"udacity\" were each keys in our dictionary, and the position of that letter in the string was the value. Thus, I can do the following:"
   ]
  },
  {
   "cell_type": "code",
   "execution_count": 2,
   "metadata": {
    "graffitiCellId": "id_p8dlxe3"
   },
   "outputs": [
    {
     "name": "stdout",
     "output_type": "stream",
     "text": [
      "6\n"
     ]
    }
   ],
   "source": [
    "print (udacity['t'])\n",
    "# 6"
   ]
  },
  {
   "cell_type": "markdown",
   "metadata": {
    "graffitiCellId": "id_rx0mrmq"
   },
   "source": [
    "This statement is saying \"go to the key labeled 't' and find it's value, 6\".\n",
    "\n",
    "Dictionaries are wonderfully flexible—you can store a wide variety of structures as values. You store another dictionary or a list:"
   ]
  },
  {
   "cell_type": "code",
   "execution_count": 3,
   "metadata": {
    "graffitiCellId": "id_pwlz6mh"
   },
   "outputs": [
    {
     "name": "stdout",
     "output_type": "stream",
     "text": [
      "{'d': [1], 'i': [2, 5], 'c': [3], 't': [4], 'o': [6], 'n': [7], 'a': [8], 'r': [9], 'y': [10]}\n"
     ]
    }
   ],
   "source": [
    "dictionary = {}\n",
    "dictionary['d'] = [1]\n",
    "dictionary['i'] = [2]\n",
    "dictionary['c'] = [3]\n",
    "dictionary['t'] = [4]\n",
    "dictionary['i'].append(5)\n",
    "dictionary['o'] = [6]\n",
    "dictionary['n'] = [7]\n",
    "dictionary['a'] = [8]\n",
    "dictionary['r'] = [9]\n",
    "dictionary['y'] = [10]\n",
    "print (dictionary)\n",
    "# {'d': [1], 'i': [2, 5], 'c': [3], 't': [4], 'o': [6], 'n': [7], 'a': [8], 'r': [9], 'y':[10]}"
   ]
  },
  {
   "cell_type": "markdown",
   "metadata": {
    "graffitiCellId": "id_rizu441"
   },
   "source": [
    "Time to play with Python dictionaries!\n",
    "You're going to work on a dictionary that\n",
    "stores cities by country and continent.\n",
    "One is done for you - the city of Mountain \n",
    "View is in the USA, which is in North America.\n",
    "\n",
    "You need to add the cities listed below by\n",
    "modifying the structure.\n",
    "Then, you should print out the values specified\n",
    "by looking them up in the structure.\n",
    "\n",
    "Cities to add:\n",
    "Bangalore (India, Asia)\n",
    "Atlanta (USA, North America)\n",
    "Cairo (Egypt, Africa)\n",
    "Shanghai (China, Asia)\n",
    "\n",
    "locations = {'North America': {'USA': ['Mountain View']}}\n",
    "\n",
    "Print the following (using \"print\").\n",
    "1. A list of all cities in the USA in\n",
    "alphabetic order.\n",
    "2. All cities in Asia, in alphabetic\n",
    "order, next to the name of the country.\n",
    "In your output, label each answer with a number\n",
    "so it looks like this:\n",
    "\n",
    "```\n",
    "1\n",
    "American City\n",
    "American City\n",
    "2\n",
    "Asian City - Country\n",
    "Asian City - Country\n",
    "```"
   ]
  },
  {
   "cell_type": "code",
   "execution_count": 4,
   "metadata": {
    "graffitiCellId": "id_dr46y2d"
   },
   "outputs": [
    {
     "name": "stdout",
     "output_type": "stream",
     "text": [
      "['Atlanta', 'Mountain View']\n",
      "['China-Bangalore', 'India-Bangalore']\n"
     ]
    }
   ],
   "source": [
    "# Code\n",
    "\n",
    "locations = {'North America': {'USA': ['Mountain View']}}\n",
    "locations['North America']['USA'].append('Atlanta')\n",
    "locations['Asia'] = {'India': ['Bangalore'], 'China': ['Shanghai']}\n",
    "locations['Africa'] = {'Egypt': ['Cairo']}\n",
    "\n",
    "# TODO: Print a list of all cities in the USA in alphabetic order.\n",
    "usa_loc = locations['North America']['USA']\n",
    "usa_loc.sort()\n",
    "print(usa_loc)\n",
    "\n",
    "# TODO: Print all cities in Asia, in alphabetic order, next to the name of the country\n",
    "asia_loc = locations['Asia']\n",
    "asia_loc_list = [element + '-' + str(*asia_loc['India']) for element in asia_loc]\n",
    "asia_loc_list.sort()\n",
    "print(asia_loc_list)\n"
   ]
  },
  {
   "cell_type": "markdown",
   "metadata": {
    "graffitiCellId": "id_4ar8d9w"
   },
   "source": [
    "<span class=\"graffiti-highlight graffiti-id_4ar8d9w-id_ft4syq0\"><i></i><button>Show Solution</button></span>"
   ]
  }
 ],
 "metadata": {
  "graffiti": {
   "firstAuthorId": "10694620118",
   "id": "id_b6lwqu3",
   "language": "EN"
  },
  "kernelspec": {
   "display_name": "Python 3",
   "language": "python",
   "name": "python3"
  },
  "language_info": {
   "codemirror_mode": {
    "name": "ipython",
    "version": 3
   },
   "file_extension": ".py",
   "mimetype": "text/x-python",
   "name": "python",
   "nbconvert_exporter": "python",
   "pygments_lexer": "ipython3",
   "version": "3.6.3"
  },
  "widgets": {
   "state": {},
   "version": "1.1.2"
  }
 },
 "nbformat": 4,
 "nbformat_minor": 2
}
